{
 "cells": [
  {
   "cell_type": "markdown",
   "metadata": {},
   "source": [
    "# API 資料串接 - 以 知乎 API 實作範例\n",
    "\n",
    "\n",
    "\n",
    "* 了解知乎 API 使用方式與回傳內容\n",
    "* 撰寫程式存取 API 且添加標頭\n",
    "\n",
    "\n"
   ]
  },
  {
   "cell_type": "markdown",
   "metadata": {},
   "source": [
    "## 作業目標\n",
    "\n",
    "* 根據範例提供的 API ，完成以下問題：\n",
    "\n",
    "    1. 取出知乎問題發問時間\n",
    "    2. 取出第一筆與最後一筆回答的時間\n"
   ]
  },
  {
   "cell_type": "markdown",
   "metadata": {},
   "source": [
    "### 1. 取出知乎問題發問時間"
   ]
  },
  {
   "cell_type": "code",
   "execution_count": 15,
   "metadata": {},
   "outputs": [
    {
     "name": "stdout",
     "output_type": "stream",
     "text": [
      "2017-02-06 22:10:29\n"
     ]
    },
    {
     "data": {
      "text/plain": [
       "'\\n補充 : \\n1.https://zhuanlan.zhihu.com/p/35625779\\n2.可透過右鍵檢查>console中network>選ALL>Preview 看api的json架構 \\n3.https://zhuanlan.zhihu.com/p/35625779\\n4. Python timestamp(時間戳) to datetime : https://www.programiz.com/python-programming/datetime/timestamp-datetime\\n'"
      ]
     },
     "execution_count": 15,
     "metadata": {},
     "output_type": "execute_result"
    }
   ],
   "source": [
    "# 1. 取出知乎問題發問時間\n",
    "from fake_useragent import UserAgent\n",
    "import requests\n",
    "import json\n",
    "import time\n",
    "from datetime import datetime\n",
    "\n",
    "\n",
    "ua = UserAgent() #假user Agent 套件，伪照 header 中的user Agent(瀏覽器名)，之乎網站是把userAgent為python request 加入黑名單\n",
    " \n",
    "headers = {'user-agent':ua.random}\n",
    "\n",
    "r = requests.get('https://www.zhihu.com/api/v4/questions/55493026/answers',headers=headers)\n",
    "response = r.text\n",
    "j = json.loads(response)\n",
    "print(datetime.fromtimestamp(j['data'][0]['question']['created']))#問題發問時間由timestamp轉為datetime，問題建立/更新時間都一樣\n",
    "    \n",
    "'''\n",
    "補充 : \n",
    "1.https://zhuanlan.zhihu.com/p/35625779\n",
    "2.可透過右鍵檢查>console中network>選ALL>Preview 看api的json架構 \n",
    "3.https://zhuanlan.zhihu.com/p/35625779\n",
    "4. Python timestamp(時間戳) to datetime : https://www.programiz.com/python-programming/datetime/timestamp-datetime\n",
    "'''\n",
    "\n"
   ]
  },
  {
   "cell_type": "markdown",
   "metadata": {},
   "source": [
    "### 2. 取出第一筆與最後一筆回答的時間"
   ]
  },
  {
   "cell_type": "code",
   "execution_count": 27,
   "metadata": {},
   "outputs": [
    {
     "name": "stdout",
     "output_type": "stream",
     "text": [
      "第一筆回答2017-05-02 10:45:13\n",
      "最後一筆回答2020-01-16 09:33:08\n"
     ]
    }
   ],
   "source": [
    "# 2. 取出第一筆與最後一筆回答的時間\n",
    "\n",
    "alist = []\n",
    "blist = []\n",
    "for i in j['data']:\n",
    "    alist.append(i['created_time'])\n",
    "    blist.append(i['updated_time'])\n",
    "alist.sort() #升階排列由小到大\n",
    "blist.sort(reverse = True)\n",
    "\n",
    "print(\"第一筆回答\" + str(datetime.fromtimestamp(alist[0])))\n",
    "print(\"最後一筆回答\"+ str(datetime.fromtimestamp(blist[0])))\n",
    "\n",
    "\n"
   ]
  },
  {
   "cell_type": "code",
   "execution_count": null,
   "metadata": {},
   "outputs": [],
   "source": []
  },
  {
   "cell_type": "code",
   "execution_count": null,
   "metadata": {},
   "outputs": [],
   "source": []
  },
  {
   "cell_type": "code",
   "execution_count": null,
   "metadata": {},
   "outputs": [],
   "source": []
  }
 ],
 "metadata": {
  "kernelspec": {
   "display_name": "Python 3",
   "language": "python",
   "name": "python3"
  },
  "language_info": {
   "codemirror_mode": {
    "name": "ipython",
    "version": 3
   },
   "file_extension": ".py",
   "mimetype": "text/x-python",
   "name": "python",
   "nbconvert_exporter": "python",
   "pygments_lexer": "ipython3",
   "version": "3.7.4"
  }
 },
 "nbformat": 4,
 "nbformat_minor": 2
}
